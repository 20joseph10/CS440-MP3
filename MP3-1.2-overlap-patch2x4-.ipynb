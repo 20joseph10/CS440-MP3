{
 "cells": [
  {
   "cell_type": "code",
   "execution_count": 25,
   "metadata": {
    "collapsed": true
   },
   "outputs": [],
   "source": [
    "import pandas as pd\n",
    "import numpy as np\n",
    "from IPython.display import display, HTML\n",
    "import matplotlib.pyplot as plt\n",
    "import seaborn as sns"
   ]
  },
  {
   "cell_type": "code",
   "execution_count": 26,
   "metadata": {
    "collapsed": true
   },
   "outputs": [],
   "source": [
    "widths = [1]*32\n",
    "df = pd.read_fwf('digitdata/optdigits-orig_train.txt', widths=widths, header=None, skiprows=lambda x : (x+1) % 33 == 0)\n",
    "# df\n",
    "df_Y = pd.read_fwf('digitdata/optdigits-orig_train.txt', widths=[2], header=None, skiprows=lambda x : (x+1) % 33 != 0)\n",
    "overlap_x = 2\n",
    "overlap_y = 4 # the window size  x for horizontal, y for vertical"
   ]
  },
  {
   "cell_type": "code",
   "execution_count": 27,
   "metadata": {},
   "outputs": [],
   "source": [
    "df_temp = df.values.reshape(2436,32,32)\n",
    "df_temp1 = np.empty((2436,33-overlap_y,33-overlap_x))\n",
    "for index in range(2436):\n",
    "    for i in range(33-overlap_y):\n",
    "        for j in range(33-overlap_x):\n",
    "            df_temp1[index,i,j] = df_temp[index,i+2,j+1] * 32 + df_temp[index,i+2,j] * 16 + df_temp[index,i+1,j+1] * 8 + df_temp[index,i+1,j+0]* 4\n",
    "            + df_temp[index,i,j+1] * 2 + df_temp[index,i,j] + df_temp[index,i+3,j+1] * 128 + df_temp[index,i+3,j] * 64\n",
    "            # variant with window size\n",
    "# df_temp1.shape"
   ]
  },
  {
   "cell_type": "code",
   "execution_count": 28,
   "metadata": {
    "collapsed": true
   },
   "outputs": [],
   "source": [
    "df_trainX = pd.DataFrame(df_temp1.reshape(2436, (33-overlap_x)*(33-overlap_y)))\n",
    "df_trainY = df_Y\n",
    "df_trainY.columns = ['label']\n",
    "# df_Y\n"
   ]
  },
  {
   "cell_type": "code",
   "execution_count": 35,
   "metadata": {},
   "outputs": [
    {
     "data": {
      "text/plain": [
       "(444, 29, 31)"
      ]
     },
     "execution_count": 35,
     "metadata": {},
     "output_type": "execute_result"
    }
   ],
   "source": [
    "df = pd.read_fwf('digitdata/optdigits-orig_test.txt', widths=widths, header=None, skiprows=lambda x : (x+1) % 33 == 0)\n",
    "df_Y = pd.read_fwf('digitdata/optdigits-orig_test.txt', widths=[2], header=None, skiprows=lambda x : (x+1) % 33 != 0)\n",
    "\n",
    "df_temp = df.values.reshape(444,32,32)\n",
    "df_temp1 = np.empty((444,33-overlap_y,33-overlap_x))\n",
    "for index in range(444):\n",
    "    for i in range(33-overlap_y):\n",
    "        for j in range(33-overlap_x):\n",
    "            df_temp1[index,i,j] = df_temp[index,i+2,j+1] * 32 + df_temp[index,i+2,j] * 16 + df_temp[index,i+1,j+1] * 8 + df_temp[index,i+1,j+0]* 4\n",
    "            + df_temp[index,i,j+1] * 2 + df_temp[index,i,j] + df_temp[index,i+3,j+1] * 128 + df_temp[index,i+3,j] * 64\n",
    "df_temp1.shape"
   ]
  },
  {
   "cell_type": "code",
   "execution_count": 36,
   "metadata": {},
   "outputs": [],
   "source": [
    "df_temp = df_temp1.reshape(444, (33-overlap_x)*(33-overlap_y))\n",
    "# df_temp.shape\n",
    "temp = np.empty((overlap_x*overlap_y,444,(33-overlap_x)*(33-overlap_y)))\n",
    "for val in range(overlap_x * overlap_y):\n",
    "    feature_makeval = np.copy(df_temp)\n",
    "    feature_makeval[df_temp != val] = 0\n",
    "    feature_makeval[df_temp == val] = 1\n",
    "    temp[val] = np.copy(feature_makeval)\n",
    "\n",
    "df_test = np.array(temp).transpose((1,2,0)).reshape(444, overlap_x * overlap_y*(33-overlap_x)*(33-overlap_y))\n",
    "df_testX = pd.DataFrame(df_test)\n",
    "df_testY = df_Y\n",
    "df_testY.columns = ['label']"
   ]
  },
  {
   "cell_type": "code",
   "execution_count": 42,
   "metadata": {},
   "outputs": [
    {
     "data": {
      "text/plain": [
       "array([240, 250, 246, 251, 241, 237, 239, 250, 231, 251], dtype=int64)"
      ]
     },
     "execution_count": 42,
     "metadata": {},
     "output_type": "execute_result"
    }
   ],
   "source": [
    "class_count = np.array((df_trainY['label'].value_counts().sort_index()))\n",
    "class_count"
   ]
  },
  {
   "cell_type": "code",
   "execution_count": 43,
   "metadata": {},
   "outputs": [
    {
     "data": {
      "text/plain": [
       "array([-2.31747371, -2.27665171, -2.29278109, -2.27265969, -2.3133157 ,\n",
       "       -2.33005249, -2.32164908, -2.27665171, -2.35569492, -2.27265969])"
      ]
     },
     "execution_count": 43,
     "metadata": {},
     "output_type": "execute_result"
    }
   ],
   "source": [
    "class_log_prior = np.log(class_count) - np.log(len(df_trainY))\n",
    "class_log_prior"
   ]
  },
  {
   "cell_type": "code",
   "execution_count": null,
   "metadata": {},
   "outputs": [],
   "source": [
    "# df_train_make1 = np.copy(df_trainX)\n",
    "# df_train_make1[df_trainX>0] = 1\n",
    "# df_train_for_count = pd.DataFrame(df_train_make1)\n",
    "# feature_count = np.array([[sum(df_train_for_count[df_trainY['label'] == i].iloc[:,j]) for i in range(10)] for j in range((33-overlap_x)*(33-overlap_y))]).T\n",
    "# feature_count\n",
    "feature_MF = np.empty((overlap_x* overlap_y,10,(33-overlap_x)*(33-overlap_y)))\n",
    "for val in range(overlap_x*overlap_y):\n",
    "# val = 1\n",
    "    feature_makeval = np.copy(df_trainX)\n",
    "    feature_makeval[df_trainX != val] = 0\n",
    "    feature_makeval[df_trainX == val] = 1\n",
    "    feature_count = np.array([[sum(feature_makeval[df_trainY['label'] == i][:,j]) for i in range(10)] for j in range((33-overlap_x)*(33-overlap_y))]).T\n",
    "    feature_MF[val] = np.copy(feature_count)\n"
   ]
  },
  {
   "cell_type": "code",
   "execution_count": null,
   "metadata": {
    "collapsed": true
   },
   "outputs": [],
   "source": [
    "feature_count = feature_MF.transpose(1,2,0).reshape(10,(33-overlap_x)*(33-overlap_y)*16)\n",
    "print('finished')"
   ]
  },
  {
   "cell_type": "code",
   "execution_count": null,
   "metadata": {
    "collapsed": true
   },
   "outputs": [],
   "source": [
    "def calc_feature_log_prob(feature_count, k=1):\n",
    "    smoothed_fc = feature_count + k\n",
    "    smoothed_cc = smoothed_fc.sum(axis=1)\n",
    "    print(smoothed_cc.reshape(-1,1))\n",
    "    return (np.log(smoothed_fc) - np.log(smoothed_cc.reshape(-1, 1)))"
   ]
  },
  {
   "cell_type": "code",
   "execution_count": null,
   "metadata": {
    "collapsed": true
   },
   "outputs": [],
   "source": [
    "feature_log_prob = [calc_feature_log_prob(feature_count, 0.1), \\\n",
    "                    calc_feature_log_prob(feature_count, 1), \\\n",
    "                    calc_feature_log_prob(feature_count, 5), \\\n",
    "                    calc_feature_log_prob(feature_count, 10)]\n",
    "# feature_log_prob = calc_feature_log_prob(feature_count, 0.1)"
   ]
  },
  {
   "cell_type": "code",
   "execution_count": null,
   "metadata": {
    "collapsed": true
   },
   "outputs": [],
   "source": [
    "joint_log_likelihood = [df_testX @ feature_log_prob[0].T + class_log_prior, \\\n",
    "                        df_testX @ feature_log_prob[1].T + class_log_prior, \\\n",
    "                        df_testX @ feature_log_prob[2].T + class_log_prior, \\\n",
    "                        df_testX @ feature_log_prob[3].T + class_log_prior]\n",
    "# joint_log_likelihood = df_testX @ feature_log_prob.T + class_log_prior"
   ]
  },
  {
   "cell_type": "code",
   "execution_count": null,
   "metadata": {
    "collapsed": true
   },
   "outputs": [],
   "source": [
    "pred = [np.argmax(joint_log_likelihood[0], axis=1), \\\n",
    "        np.argmax(joint_log_likelihood[1], axis=1), \\\n",
    "        np.argmax(joint_log_likelihood[2], axis=1), \\\n",
    "        np.argmax(joint_log_likelihood[3], axis=1)]\n",
    "# pred = np.argmax(joint_log_likelihood, axis=1)"
   ]
  },
  {
   "cell_type": "code",
   "execution_count": null,
   "metadata": {
    "scrolled": false
   },
   "outputs": [],
   "source": [
    "smooth_k = [0.1, 1, 5, 10]\n",
    "for i in range(4):\n",
    "    y_pred = pd.Series(pred[i])\n",
    "    df_confusion = pd.crosstab(df_testY['label'], y_pred)\n",
    "\n",
    "    conf_percent = df_confusion.values / df_confusion.sum(axis=1).values.reshape(-1,1)\n",
    "    df_conf_percent = round(pd.DataFrame(conf_percent).rename_axis('Actual').rename_axis('Prediction', axis=1), 4)*100\n",
    "    print('Test set Confusion Matrix: Actual vs. Prediction (Smoothing value k = {})'.format(smooth_k[i]))\n",
    "    display(df_conf_percent)\n",
    "    display(pd.DataFrame(np.diag(df_conf_percent), columns=['Accuracy']))\n",
    "    print('Average Accuracy: {}'.format(np.mean(np.diag(df_conf_percent))))\n",
    "    print('\\n')\n",
    "# df_conf_percent"
   ]
  },
  {
   "cell_type": "code",
   "execution_count": null,
   "metadata": {
    "collapsed": true
   },
   "outputs": [],
   "source": []
  }
 ],
 "metadata": {
  "kernelspec": {
   "display_name": "Python 3",
   "language": "python",
   "name": "python3"
  },
  "language_info": {
   "codemirror_mode": {
    "name": "ipython",
    "version": 3
   },
   "file_extension": ".py",
   "mimetype": "text/x-python",
   "name": "python",
   "nbconvert_exporter": "python",
   "pygments_lexer": "ipython3",
   "version": "3.6.3"
  }
 },
 "nbformat": 4,
 "nbformat_minor": 2
}
