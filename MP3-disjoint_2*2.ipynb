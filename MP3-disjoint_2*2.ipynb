{
 "cells": [
  {
   "cell_type": "code",
   "execution_count": 1,
   "metadata": {},
   "outputs": [],
   "source": [
    "import pandas as pd\n",
    "import numpy as np\n",
    "from IPython.display import display, HTML\n",
    "import matplotlib.pyplot as plt\n",
    "import seaborn as sns"
   ]
  },
  {
   "cell_type": "code",
   "execution_count": 2,
   "metadata": {},
   "outputs": [
    {
     "name": "stdout",
     "output_type": "stream",
     "text": [
      "2436\n"
     ]
    }
   ],
   "source": [
    "widths = [1]*32\n",
    "df = pd.read_fwf('digitdata/optdigits-orig_train.txt', widths=widths, header=None, skiprows=lambda x : (x+1) % 33 == 0)\n",
    "# df\n",
    "df_Y = pd.read_fwf('digitdata/optdigits-orig_train.txt', widths=[2], header=None, skiprows=lambda x : (x+1) % 33 != 0)\n",
    "print(len(df_Y))"
   ]
  },
  {
   "cell_type": "code",
   "execution_count": 3,
   "metadata": {},
   "outputs": [],
   "source": [
    "df_trainX = pd.DataFrame(df.values.reshape(2436, -1))\n",
    "df_trainY = df_Y\n",
    "df_trainY.columns = ['label']\n",
    "# df_Y"
   ]
  },
  {
   "cell_type": "code",
   "execution_count": 4,
   "metadata": {},
   "outputs": [],
   "source": [
    "n = 2\n",
    "m = 2\n",
    "length = int(32*32/n/m)\n",
    "\n",
    "df_disjoint = pd.DataFrame(np.nan, index=range(2436), columns=range(length))"
   ]
  },
  {
   "cell_type": "code",
   "execution_count": null,
   "metadata": {
    "scrolled": false
   },
   "outputs": [],
   "source": [
    "for idx, image in df_trainX.iterrows():\n",
    "    for i in range(length):\n",
    "        temp = ''\n",
    "        c = 0\n",
    "        if (i%(32/m) == 0 and not i == 0):\n",
    "            c += 32\n",
    "        for k in range(n):\n",
    "            for l in range(m):\n",
    "                temp += str(image[m*i+l+c+ 32*k])\n",
    "        df_disjoint.iloc[idx, i] = int(temp, 2)\n"
   ]
  },
  {
   "cell_type": "code",
   "execution_count": null,
   "metadata": {},
   "outputs": [],
   "source": [
    "df = pd.read_fwf('digitdata/optdigits-orig_test.txt', widths=widths, header=None, skiprows=lambda x : (x+1) % 33 == 0)\n",
    "df_Y = pd.read_fwf('digitdata/optdigits-orig_test.txt', widths=[2], header=None, skiprows=lambda x : (x+1) % 33 != 0)\n"
   ]
  },
  {
   "cell_type": "code",
   "execution_count": null,
   "metadata": {},
   "outputs": [],
   "source": [
    "df_testX = pd.DataFrame(df.values.reshape(444, -1))\n",
    "df_testY = df_Y\n",
    "df_testY.columns = ['label']"
   ]
  },
  {
   "cell_type": "code",
   "execution_count": null,
   "metadata": {
    "scrolled": false
   },
   "outputs": [],
   "source": [
    "df_test = pd.DataFrame(np.nan, index=range(444), columns=range(length))\n",
    "\n",
    "for idx, image in df_testX.iterrows():\n",
    "    for i in range(length):\n",
    "        temp = ''\n",
    "        c = 0\n",
    "        if (i%(32/m) == 0 and not i == 0):\n",
    "            c += 32\n",
    "        for k in range(n):\n",
    "            for l in range(m):\n",
    "                temp += str(image[m*i+l+c+ 32*k])\n",
    "        df_test.iloc[idx, i] = int(temp, 2)\n"
   ]
  },
  {
   "cell_type": "code",
   "execution_count": null,
   "metadata": {},
   "outputs": [],
   "source": [
    "class_count = np.array((df_trainY['label'].value_counts().sort_index()))\n"
   ]
  },
  {
   "cell_type": "code",
   "execution_count": null,
   "metadata": {},
   "outputs": [],
   "source": [
    "class_log_prior = np.log(class_count) - np.log(len(df_trainY))\n"
   ]
  },
  {
   "cell_type": "code",
   "execution_count": null,
   "metadata": {},
   "outputs": [],
   "source": [
    "#feature_count.append(np.array([[[sum(df_disjoint[df_trainY['label'] == i].iloc[:,j] ) for i in range(10)] for j in range(256)]).T)\n",
    "\n",
    "\n",
    "feature_MF = []\n",
    "for val in range(2**(n*m)):\n",
    "    feature_makeval = np.copy(df_disjoint)\n",
    "    feature_makeval[df_disjoint != val] = 0\n",
    "    feature_makeval[df_disjoint == val] = 1\n",
    "#     only count the frenqucy of certain feature whose value == val\n",
    "    feature_count = np.array([[sum(feature_makeval[df_trainY['label'] == i][:,j]) for i in range(10)] for j in range(length)]).T\n",
    "    feature_MF.append(feature_count)\n",
    "feature_MF = np.swapaxes(feature_MF, 0, 1)\n",
    "feature_MF = np.swapaxes(feature_MF, 1, 2)\n",
    "feature_MF = np.reshape(feature_MF, (10, (2**(n*m))*length))\n"
   ]
  },
  {
   "cell_type": "code",
   "execution_count": null,
   "metadata": {},
   "outputs": [],
   "source": [
    "def calc_feature_log_prob(feature_MF, k=1):\n",
    "    smoothed_fc = feature_MF + k\n",
    "    smoothed_cc = smoothed_fc.sum(axis=1)\n",
    "    return (np.log(smoothed_fc) - np.log(smoothed_cc.reshape(-1, 1)))"
   ]
  },
  {
   "cell_type": "code",
   "execution_count": null,
   "metadata": {},
   "outputs": [],
   "source": [
    "feature_log_prob = [calc_feature_log_prob(feature_MF, k=0.1), \\\n",
    "                    calc_feature_log_prob(feature_MF, k=1), \\\n",
    "                    calc_feature_log_prob(feature_MF, k=5), \\\n",
    "                    calc_feature_log_prob(feature_MF, k=10)]"
   ]
  },
  {
   "cell_type": "code",
   "execution_count": null,
   "metadata": {},
   "outputs": [],
   "source": [
    "test_MF = np.zeros((444 , length, (2**(n*m))  ))\n",
    "for i in range(444):\n",
    "    for j in range(length):\n",
    "        for k in range(2**(n*m)):\n",
    "            test_MF[i, j, k] = 1 if df_test.iloc[i, j] == k else 0"
   ]
  },
  {
   "cell_type": "code",
   "execution_count": null,
   "metadata": {},
   "outputs": [],
   "source": [
    "test_MF = np.reshape(test_MF, (444, length * (2**(n*m))))        \n",
    " "
   ]
  },
  {
   "cell_type": "code",
   "execution_count": null,
   "metadata": {},
   "outputs": [],
   "source": [
    "joint_log_likelihood = [test_MF @ feature_log_prob[0].T + class_log_prior, \\\n",
    "                        test_MF @ feature_log_prob[1].T + class_log_prior, \\\n",
    "                        test_MF @ feature_log_prob[2].T + class_log_prior, \\\n",
    "                        test_MF @ feature_log_prob[3].T + class_log_prior]\n",
    "# joint_log_likelihood"
   ]
  },
  {
   "cell_type": "code",
   "execution_count": null,
   "metadata": {},
   "outputs": [],
   "source": [
    "pred = [np.argmax(joint_log_likelihood[0], axis=1), \\\n",
    "        np.argmax(joint_log_likelihood[1], axis=1), \\\n",
    "        np.argmax(joint_log_likelihood[2], axis=1), \\\n",
    "        np.argmax(joint_log_likelihood[3], axis=1)]"
   ]
  },
  {
   "cell_type": "code",
   "execution_count": null,
   "metadata": {
    "scrolled": false
   },
   "outputs": [],
   "source": [
    "smooth_k = [0.1, 1, 5, 10]\n",
    "for i in range(4):\n",
    "    y_pred = pd.Series(pred[i])\n",
    "    df_confusion = pd.crosstab(df_testY['label'], y_pred)\n",
    "\n",
    "    conf_percent = df_confusion.values / df_confusion.sum(axis=1).values.reshape(-1,1)\n",
    "    df_conf_percent = round(pd.DataFrame(conf_percent).rename_axis('Actual').rename_axis('Prediction', axis=1), 4)*100\n",
    "    print('Test set Confusion Matrix: Actual vs. Prediction (Smoothing value k = {})'.format(smooth_k[i]))\n",
    "    display(df_conf_percent)\n",
    "    display(pd.DataFrame(np.diag(df_conf_percent), columns=['Accuracy']))\n",
    "    print('Average Accuracy: {}'.format(np.mean(np.diag(df_conf_percent))))\n",
    "    print('\\n')\n",
    "# df_conf_percent"
   ]
  },
  {
   "cell_type": "markdown",
   "metadata": {},
   "source": [
    "### Choose the smoothing parameter with the best average accuracy (k=5)"
   ]
  },
  {
   "cell_type": "code",
   "execution_count": null,
   "metadata": {},
   "outputs": [],
   "source": [
    "LL_pred = pd.concat([pd.DataFrame(joint_log_likelihood[2]), df_testY], axis=1)\n",
    "# LL_pred"
   ]
  },
  {
   "cell_type": "code",
   "execution_count": null,
   "metadata": {
    "scrolled": true
   },
   "outputs": [],
   "source": [
    "for index in range(10):\n",
    "    i_most = LL_pred[LL_pred['label']==index].iloc[:,index].idxmax()\n",
    "    i_least = LL_pred[LL_pred['label']==index].iloc[:,index].idxmin()\n",
    "    f, (ax1, ax2) = plt.subplots(1, 2, figsize=(10,6))\n",
    "    ax1.imshow(df_testX.iloc[i_most,:].values.reshape((32,32)), cmap='Greys')\n",
    "    ax2.imshow(df_testX.iloc[i_least,:].values.reshape((32,32)), cmap='Greys')\n",
    "    ax1.set_title('Visualizing most prototypical sample for {}'.format(index))\n",
    "    ax2.set_title('Visualizing least prototypical sample for {}'.format(index))\n",
    "    ax1.axis('off')\n",
    "    ax2.axis('off')\n",
    "    plt.subplots_adjust(wspace=0.5)\n",
    "    plt.show()\n"
   ]
  },
  {
   "cell_type": "code",
   "execution_count": null,
   "metadata": {},
   "outputs": [],
   "source": [
    "def plot_log_odds_ratio(c1, c2):\n",
    "    f, (ax1, ax2, ax3) = plt.subplots(1, 3, figsize=(15,4))\n",
    "    ax1 = sns.heatmap(feature_log_prob[2][c1].reshape((32,32)), ax=ax1, cmap='jet', xticklabels=False, yticklabels=False)\n",
    "    ax2 = sns.heatmap(feature_log_prob[2][c2].reshape((32,32)), ax=ax2, cmap='jet', xticklabels=False, yticklabels=False)\n",
    "    ax3 = sns.heatmap((feature_log_prob[2][c1] - feature_log_prob[2][c2]).reshape((32,32)), ax=ax3, cmap='jet', xticklabels=False, yticklabels=False)\n",
    "    plt.subplots_adjust(wspace=0.3)\n",
    "    plt.show()"
   ]
  },
  {
   "cell_type": "code",
   "execution_count": null,
   "metadata": {
    "scrolled": true
   },
   "outputs": [],
   "source": [
    "for i, cls in enumerate(zip([2,5,3,4], [8,9,9,7])):\n",
    "    plot_log_odds_ratio(cls[0], cls[1])"
   ]
  },
  {
   "cell_type": "code",
   "execution_count": null,
   "metadata": {},
   "outputs": [],
   "source": []
  },
  {
   "cell_type": "code",
   "execution_count": null,
   "metadata": {},
   "outputs": [],
   "source": []
  }
 ],
 "metadata": {
  "kernelspec": {
   "display_name": "Python 3",
   "language": "python",
   "name": "python3"
  },
  "language_info": {
   "codemirror_mode": {
    "name": "ipython",
    "version": 3
   },
   "file_extension": ".py",
   "mimetype": "text/x-python",
   "name": "python",
   "nbconvert_exporter": "python",
   "pygments_lexer": "ipython3",
   "version": "3.6.4"
  }
 },
 "nbformat": 4,
 "nbformat_minor": 2
}
